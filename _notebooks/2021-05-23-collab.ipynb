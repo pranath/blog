{
    "nbformat": 4,
    "nbformat_minor": 0,
    "metadata": {
      "kernelspec": {
        "display_name": "Python 3",
        "language": "python",
        "name": "python3"
      },
      "language_info": {
        "codemirror_mode": {
          "name": "ipython",
          "version": 3
        },
        "file_extension": ".py",
        "mimetype": "text/x-python",
        "name": "python",
        "nbconvert_exporter": "python",
        "pygments_lexer": "ipython3",
        "version": "3.8.3"
      },
      "colab": {
        "name": "2021-05-23-collab.ipynbß",
        "provenance": []
      }
    },
    "cells": [
      {
        "cell_type": "markdown",
        "metadata": {
          "id": "_G315Re0FCoY"
        },
        "source": [
          "# Collab chapter\n",
          "> An easy to use blogging platform with extra features for <a href=\"https://jupyter.org/\">Jupyter Notebooks</a>.\n",
          "\n",
          "- toc: true \n",
          "- badges: true\n",
          "- comments: true\n",
          "- sticky_rank: 1\n",
          "- author: Jeremy Howard & Hamel Husain\n",
          "- image: images/aihuman.jpeg\n",
          "- categories: [fastpages, project]"
        ]
      },
      {
        "cell_type": "code",
        "metadata": {
          "id": "AvAeVEb5E_rV"
        },
        "source": [
          "!pip install -Uqq fastbook\n",
          "import fastbook\n",
          "fastbook.setup_book()"
        ],
        "execution_count": null,
        "outputs": []
      }
  ]
}
