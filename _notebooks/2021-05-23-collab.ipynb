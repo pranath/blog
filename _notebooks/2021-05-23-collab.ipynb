{
    "cells": [
      {
        "cell_type": "markdown",
        "metadata": {
          "id": "_G315Re0FCoY"
        },
        "source": [
          "# Collab chapter\n",
          "> An easy to use blogging platform with extra features for <a href=\"https://jupyter.org/\">Jupyter Notebooks</a>.\n",
          "\n",
          "- toc: true \n",
          "- badges: true\n",
          "- comments: true\n",
          "- sticky_rank: 1\n",
          "- author: Jeremy Howard & Hamel Husain\n",
          "- image: images/aihuman.jpeg\n",
          "- categories: [fastpages, project]"
        ]
      },
      {
        "cell_type": "code",
        "metadata": {
          "id": "AvAeVEb5E_rV"
        },
        "source": [
          "#hide\n",
          "!pip install -Uqq fastbook\n",
          "import fastbook\n",
          "fastbook.setup_book()"
        ],
        "execution_count": null,
        "outputs": []
      }
  ]
}
