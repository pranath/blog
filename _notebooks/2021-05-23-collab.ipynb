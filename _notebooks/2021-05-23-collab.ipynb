{
    "nbformat": 4,
    "nbformat_minor": 0,
    "metadata": {
      "kernelspec": {
        "display_name": "Python 3",
        "language": "python",
        "name": "python3"
      },
      "language_info": {
        "codemirror_mode": {
          "name": "ipython",
          "version": 3
        },
        "file_extension": ".py",
        "mimetype": "text/x-python",
        "name": "python",
        "nbconvert_exporter": "python",
        "pygments_lexer": "ipython3",
        "version": "3.8.3"
      },
      "colab": {
        "name": "2021-05-23-collab.ipynb",
        "provenance": []
      }
    },
    "cells": [
      {
        "cell_type": "markdown",
        "metadata": {
          "id": "_G315Re0FCoY"
        },
        "source": [
          "# Collab chapter\n",
          "> An easy to use blogging platform with extra features for <a href=\"https://jupyter.org/\">Jupyter Notebooks</a>.\n",
          "\n",
          "- toc: true \n",
          "- badges: true\n",
          "- comments: true\n",
          "- sticky_rank: 1\n",
          "- author: Jeremy Howard & Hamel Husain\n",
          "- image: images/aihuman.jpeg\n",
          "- categories: [fastpages, project]"
        ]
      },
      {
        "cell_type": "code",
        "metadata": {
          "id": "AvAeVEb5E_rV"
        },
        "source": [
          "!pip install -Uqq fastbook\n",
          "import fastbook\n",
          "fastbook.setup_book()"
        ],
        "execution_count": null,
        "outputs": []
    },
    {
      "cell_type": "markdown",
      "metadata": {
        "id": "8sSMfudYE_rZ"
      },
      "source": [
        "# Collaborative Filtering Deep Dive"
      ]
    },
    {
      "cell_type": "markdown",
      "metadata": {
        "id": "d2Pr8eJxE_rZ"
      },
      "source": [
        "One very common problem to solve is when you have a number of users and a number of products, and you want to recommend which products are most likely to be useful for which users. There are many variations of this: for example, recommending movies (such as on Netflix), figuring out what to highlight for a user on a home page, deciding what stories to show in a social media feed, and so forth. There is a general solution to this problem, called *collaborative filtering*, which works like this: look at what products the current user has used or liked, find other users that have used or liked similar products, and then recommend other products that those users have used or liked.\n",
        "\n",
        "For example, on Netflix you may have watched lots of movies that are science fiction, full of action, and were made in the 1970s. Netflix may not know these particular properties of the films you have watched, but it will be able to see that other people that have watched the same movies that you watched also tended to watch other movies that are science fiction, full of action, and were made in the 1970s. In other words, to use this approach we don't necessarily need to know anything about the movies, except who like to watch them.\n",
        "\n",
        "There is actually a more general class of problems that this approach can solve, not necessarily involving users and products. Indeed, for collaborative filtering we more commonly refer to *items*, rather than *products*. Items could be links that people click on, diagnoses that are selected for patients, and so forth.\n",
        "\n",
        "The key foundational idea is that of *latent factors*. In the Netflix example, we started with the assumption that you like old, action-packed sci-fi movies. But you never actually told Netflix that you like these kinds of movies. And Netflix never actually needed to add columns to its movies table saying which movies are of these types. Still, there must be some underlying concept of sci-fi, action, and movie age, and these concepts must be relevant for at least some people's movie watching decisions."
      ]
    }
  ]
}
