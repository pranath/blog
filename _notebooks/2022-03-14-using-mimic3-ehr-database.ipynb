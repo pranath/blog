{
 "cells": [
  {
   "cell_type": "markdown",
   "metadata": {},
   "source": [
    "# MIMIC-III (EHR) for Descriptive Health Analytics\n",
    "> In this article we will look at the basic structure of the MIMIC-III database, which is the largest publicly Electronic Health Record (EHR) database available to benchmark machine learning algorithms. In particular, we will learn about the design of this relational database, and what tools are available to query, extract and visualise descriptive analytics.\n",
    "\n",
    "- toc: true \n",
    "- comments: true\n",
    "- image: images/ehr3.jpg\n",
    "- categories: [health, electronic-health-records]"
   ]
  },
  {
   "cell_type": "markdown",
   "metadata": {},
   "source": [
    "## Introduction\n",
    "\n",
    "In an [earlier article we looked at how the MIMIC-III EHR database come into being](https://livingdatalab.com/health/2022/03/14/data-ehr-healthcare.html). In this article, we're going to overview the main architecture of the MIMIC-III Electronic Health Record (EHR) database and how it links information between ICU units in the hospital records. We're also going to highlight that a key processing step to develop the database was to remove any sensitive fields. When dealing with sensitive health data, we need to particularly pay attention to dates. With MIMIC to protect anonymity, all dates have been shifted relatively to protect the privacy of the subjects. In particular, we will learn about the design of this relational database, and what tools are available to query, extract and visualise descriptive analytics.\n",
    "\n",
    "## MIMIC-III use cases\n",
    "\n",
    "Electronic health records are complicated. This is for several reasons. Some of this information can be medical images, lab tests, natural language diagnosis from doctors, medications, and hospitalization events. During hospitalization there is a number of tests a patient undergoes, blood test, and vital signs checked. It could be medical images and so on. A single patients data are spread over multiple electronic health record with diverse representation. Another important issue is the meaning of measurements. As simple temperature measure may vary depending on whether it is taking from the mouth or the armpit. Putting all this together, we see that electronic health records are irregularly sampled. Their nature is varied and dynamic. So how we can design the schema of a database to encode this information?\n",
    "\n",
    "This database should be accessible simultaneously from doctors and other health care providers frequently and in a unified way. Interoperability is a key requirement. This involve enhanced quality, efficiency, and effectiveness of the health care system. Information should be provided in the appropriate format whenever is needed. We should eliminate unnecessary duplications. Database selection and it's matching schema architecture usually influences that effective management of medical data flexibility, scalability, query performance, and interoperability. Non-proprietary standardized models are necessary to build electronic health record systems which comply the requirement of interoperability.\n",
    "\n",
    "MIMIC-III is a good example towards this direction. It is the only freely accessible critical care database of its kind. The dataset spans more than a decade, which detailed information about individual patient care. Databases such as MIMIC-III play a key role in accelerating research in machine learning models and end enabling reproducibility studies. MIMIC-III database links the identified information across five intensive units at the hospital of Medical Center in Boston with the hospital electronic health record databases.\n",
    "\n",
    "![](https://github.com/pranath/blog/raw/master/images/mimic3-patient-timeline.png \"MIMIC III - Patient Timeline\")\n",
    "\n",
    "During ICU stay, there are several signals that are monitored and these are the vital signs, there are waveforms. We have alarms, but there are also fluids and medications as well as progression reports noted from the doctors. On the other hand, data recording from the hospital will include billing details and it includes also International Classification of Disease codes which relates to the pathology and the symptoms of the patient during admission. It will include demographics of the patient, and it will also include other nodes, with relation to medical images, discharge summaries, and so on. All the fields related to patient data identification has been removed. This includes his patient name, telephone number, and addresses. In particular dates, we're shifted into the future by a random offset for each individual patient in a consistent manner. Preserving interval is important. Therefore, dates cannot be completely removed or randomly changed.\n",
    "\n",
    "![](https://github.com/pranath/blog/raw/master/images/mimic3-overview.jpg \"MIMIC III - Overview\")\n",
    "\n",
    "## MIMIC-III as a Relational Database\n",
    "\n",
    "MIMIC-III database consists of 26 tables and they're all listed below. The schema of the database reflects the inherent hospital sources of information. Since MIMIC-III links data from a hospital, the overall structure represents closely this row data. As we see here, MIMIC-III tables can be categorized in four groups.\n",
    "\n",
    "One of the group is the **patient tracking**. These tables are used to define and track patient stay. The tables under **ICU data** include all the data recorded during icu stays. On the other hand, the data recorded within the table under the **hospital category** includes all the data recorded in the hospital. Recall that the database links data between the ICU unit and the hospital but these are two different entities. Finally, the last category includes **dictionary tables** and they all have a prefix of d.\n",
    "\n",
    "![](https://github.com/pranath/blog/raw/master/images/mimic3-tables.png \"MIMIC III - Overview\")\n",
    "\n",
    "Here, we're going to look at the basic tables of MIMIC-III, which are the *patients* table, the *admission* table, and the *icustays* table. Several key summary statistics can be extracted based only on these tables.\n",
    "\n",
    "The **patient table** has a subject Id identifier that can link it to the admission table, as well as the ICU table. The patient table includes the date of birth. *We should pay attention here because the date of birth has been shifted for patients older than 89 years old*. We should also note that the table records three different versions of date of death. These are the date of death according to the hospital. The date of death from Social Security database, and a date of death which matches the two dates and gives priority to the date of death at hospital. The patient's table also includes an expired flag, which is a binary flag that records whether the patient has died according to either database.\n",
    "\n",
    "The **admissions table** has an additional identifier. The hospital admission identify that links the information with the icustays table. *The admissions table records every unique hospitalization for each patient in the database*. It includes information about admission time, discharge time, death time, type of admission, hospital expiry flag, diagnosis, and whether the patient has chart events data associated with his record.\n",
    "\n",
    "The **icustays table** records every unique ICU stay in the database. The icustay identifier is a generated identifier that is not based on any row data identifier. We should point out that the hospital and the ICU database are not mainly linked, they used to be two separate databases. Therefore they don't have any concept of an ICU and counter identifier. Taking all this together, subject Id refers to a unique patient identifier, hospital admission Id refers to a unique admission to the hospital and icustay identification refers to a unique admission to an intensive care unit.\n",
    "\n",
    "Information in the icustays table include the first care unit and the last care unit, which are also information defined in the **transfers table**. It also include the first ward and the last ward, which refers to the physical locations within the hospital. It includes in time and out time of when the patient was transferred in and out of the ICU. It also includes length of stay for the patient. We should point out that the icustays table have been in fact linked with the transfers table. Specifically it groups a transfers stable based on icustay ID and excludes rows where there is no icustay ID. The transfers table, includes additional information of patient movement from bed to bed within the hospital, including ICU admission and discharge.\n",
    "\n",
    "Finally, the **callout table** includes information regarding when a patient was cleared from ICU discharge and when the patient was actually discharged. A key table that includes data from the ICU unit is the **chart events table**. Here we can find all chart event observations for patients. The **outputevents stable**, on the other hand, contains all measurements related to output for a given patient. When we work with ICU data and in particular with chart events data, we should consider also the **dictionary tables**. This table provide definitions for identifiers. For example, every row of chart events is associated with a single item ID, which represents the concept measure. In this way, by joining the chart events table with a dictionary items table it is possible to identify the concept represented by a given item ID. The rest of the dictionary's table, they're also used for cross-referencing codes against their respective definitions.\n",
    "\n",
    "Now we highlight some of the tables and the hospital data that are used very often, in particular, the **lab events table** containing laboratory test results for a patient. There is some duplication between chart events and lab events. In cases where there is a disagreement between measurements, lab events should be taken as the ground truth. In some cases, it would have been possible to merge tables. For example, we can merge the dictionary of ICT procedures with that CPT events table because both contain details relating to procedures and they could be combined. However, since the data sources are significantly different, they have been kept separately.\n",
    "\n",
    "Researchers are advised to develop database views and transform them as appropriately rather than combining the tables within the mimic data model. We should also point out that the patients' procedures recording in the **procedures ICT table** are coded using the International Statistical Classification of Diseases. Similarly, the **diagnosis ICT table**, are hospital assigned diagnosis coded using again, the International Statistical Classification of Diseases System. The corresponding dictionary tables, they hold the relative information with relation to the ICD-9 codes.\n",
    "\n",
    "Summarizing, the mimic database holds more than 53,000 distinct hospital admissions for patients age 60 years and above, and they were admitted to critical care between 2001 and 2012. To correctly extract information from an electronic health record database, we need to understand the schema of the database, but also the source of the data. In almost every query, we will see that we can use SQL queries to join information between the basic tables which hold data for the patients' admissions in the hospital and ICU stays. In the next sectionss, we will see how to extract information about the patient characteristics such as age, gender, ICU units, as well as outcomes such as mortality and stay of length. We are also going to discuss the coding system used in mimic, which is based on the International Classification of Diseases, ICD-9 system.\n",
    "\n",
    "[This is a good article summerising the characteristics of the MIMIC-III database and its tables](https://www.nature.com/articles/sdata201635).\n",
    "\n",
    "## Calculating Descriptive Statistics for MIMIC-III\n",
    "\n",
    "Descriptive statistics are powerful. They can be used in retrospective studies to overview historic data and explain trends. Extracting patients can result in different estimations depending on which table identifier we use. Therefore, we really need to understand the schema of the database and how it encodes the data. Normally, descriptive statistics look into patient characteristics, intensive care unit utilization, and patient outcomes such as mortality. A number of factors should be considered while we extract this data, for example, when we are looking into estimating the number of patients, we will realize that there is more than one way leading to similar but not identical results. We can look into the number of distinct patients across care units. We can also look into unique hospital admissions. Some patients have been admitted more than once. Therefore, we would expect that the number of unique patient admissions is less than the number of unique hospital admissions, since a patient can be hospitalized more than once.\n",
    "\n",
    "We can also consider unique admissions to ICUs and this number will be, again, different than the number of distinct patient across intensive care units because some patients have been admitted to more than one intensive care unit. In particular, for MIMIC-III, it is useful to know the age distribution across intensive units. Dßescriptive analytics can provide us a lot of information about historic data. They can be used to explain trends, but they cannot be used to predict future and prevent disease and high rates of mortality. Therefore, they are limited into retrospective studies.\n",
    "\n",
    "To calculate some example descriptive statistics we will use the following tools:\n",
    "\n",
    "- [A reduced demo version of the MIMIC-III dataset](https://physionet.org/content/mimiciii-demo/1.4/)\n",
    "- A PostgreSQL Database with all the tables from the demo MIMIC-III imported into it\n",
    "- Python & Pandas"
   ]
  },
  {
   "cell_type": "code",
   "execution_count": 1,
   "metadata": {},
   "outputs": [],
   "source": [
    "\n",
    "# Import libraries\n",
    "import numpy as np\n",
    "import pandas as pd\n",
    "import sys\n",
    "import matplotlib.pyplot as plt\n",
    "from matplotlib import cm\n",
    "import matplotlib.colors as mc\n",
    "import colorsys\n",
    "import psycopg2\n",
    "%matplotlib inline\n",
    "\n",
    "# Local Database Configuration:\n",
    "sqluser = 'pranath'\n",
    "dbname = 'mimic'\n",
    "schema_name = 'mimiciii'"
   ]
  },
  {
   "cell_type": "code",
   "execution_count": 2,
   "metadata": {},
   "outputs": [],
   "source": [
    "\n",
    "# Connect to MIMIC-III database:\n",
    "con = psycopg2.connect(dbname=dbname, user=sqluser, password='')\n",
    "cur = con.cursor()"
   ]
  },
  {
   "cell_type": "markdown",
   "metadata": {},
   "source": [
    "### Calculating the Distribution of Heart rates of all adult patients\n",
    "\n",
    "Say for example we would like to create a histogram of all adult (age >= 16) patients’ heart rates. Heart rates are registered as two separate charted events, under the label ‘Heart rate’. \n",
    "\n",
    "To get all adult patients’ heart rates, we first combine the Patients and Admissions tables again to get the age of each patient (computed from each patient’s date of birth and hospital admission time). We filter out all patients younger than 16 years old, and select the values from the charted events related to the unique identifiers mentioned above. "
   ]
  },
  {
   "cell_type": "markdown",
   "metadata": {},
   "source": [
    "![](https://github.com/pranath/blog/raw/master/images/mimic3-sql-heartrate.png \"MIMIC III - SQL Query to obtain heart rate data\")"
   ]
  },
  {
   "cell_type": "markdown",
   "metadata": {},
   "source": [
    "For the implementation, we will need to filter on charted events with item ID 211 or 220045, which both correspond to heart rate."
   ]
  },
  {
   "cell_type": "code",
   "execution_count": 3,
   "metadata": {},
   "outputs": [
    {
     "data": {
      "text/html": [
       "<div>\n",
       "<style scoped>\n",
       "    .dataframe tbody tr th:only-of-type {\n",
       "        vertical-align: middle;\n",
       "    }\n",
       "\n",
       "    .dataframe tbody tr th {\n",
       "        vertical-align: top;\n",
       "    }\n",
       "\n",
       "    .dataframe thead th {\n",
       "        text-align: right;\n",
       "    }\n",
       "</style>\n",
       "<table border=\"1\" class=\"dataframe\">\n",
       "  <thead>\n",
       "    <tr style=\"text-align: right;\">\n",
       "      <th></th>\n",
       "      <th>itemid</th>\n",
       "      <th>label</th>\n",
       "    </tr>\n",
       "  </thead>\n",
       "  <tbody>\n",
       "    <tr>\n",
       "      <th>0</th>\n",
       "      <td>211</td>\n",
       "      <td>Heart Rate</td>\n",
       "    </tr>\n",
       "    <tr>\n",
       "      <th>1</th>\n",
       "      <td>3494</td>\n",
       "      <td>Lowest Heart Rate</td>\n",
       "    </tr>\n",
       "    <tr>\n",
       "      <th>2</th>\n",
       "      <td>220045</td>\n",
       "      <td>Heart Rate</td>\n",
       "    </tr>\n",
       "    <tr>\n",
       "      <th>3</th>\n",
       "      <td>220047</td>\n",
       "      <td>Heart Rate Alarm - Low</td>\n",
       "    </tr>\n",
       "  </tbody>\n",
       "</table>\n",
       "</div>"
      ],
      "text/plain": [
       "   itemid                   label\n",
       "0     211              Heart Rate\n",
       "1    3494       Lowest Heart Rate\n",
       "2  220045              Heart Rate\n",
       "3  220047  Heart Rate Alarm - Low"
      ]
     },
     "execution_count": 3,
     "metadata": {},
     "output_type": "execute_result"
    }
   ],
   "source": [
    "\n",
    "# Make sure that we are looking at the right item IDs that correspond to heart rate in the d_items dictionary table:\n",
    "query =  \"\"\"\n",
    "SELECT d.itemid, d.label\n",
    "FROM public.d_items d\n",
    "WHERE d.label LIKE '%Heart Rate%'\n",
    "\"\"\"\n",
    "query_output = pd.read_sql_query(query,con)\n",
    "query_output"
   ]
  },
  {
   "cell_type": "code",
   "execution_count": 4,
   "metadata": {},
   "outputs": [
    {
     "data": {
      "text/html": [
       "<div>\n",
       "<style scoped>\n",
       "    .dataframe tbody tr th:only-of-type {\n",
       "        vertical-align: middle;\n",
       "    }\n",
       "\n",
       "    .dataframe tbody tr th {\n",
       "        vertical-align: top;\n",
       "    }\n",
       "\n",
       "    .dataframe thead th {\n",
       "        text-align: right;\n",
       "    }\n",
       "</style>\n",
       "<table border=\"1\" class=\"dataframe\">\n",
       "  <thead>\n",
       "    <tr style=\"text-align: right;\">\n",
       "      <th></th>\n",
       "      <th>heart_rate</th>\n",
       "    </tr>\n",
       "  </thead>\n",
       "  <tbody>\n",
       "    <tr>\n",
       "      <th>0</th>\n",
       "      <td>1.0</td>\n",
       "    </tr>\n",
       "    <tr>\n",
       "      <th>1</th>\n",
       "      <td>1.0</td>\n",
       "    </tr>\n",
       "    <tr>\n",
       "      <th>2</th>\n",
       "      <td>1.0</td>\n",
       "    </tr>\n",
       "    <tr>\n",
       "      <th>3</th>\n",
       "      <td>1.0</td>\n",
       "    </tr>\n",
       "    <tr>\n",
       "      <th>4</th>\n",
       "      <td>1.0</td>\n",
       "    </tr>\n",
       "  </tbody>\n",
       "</table>\n",
       "</div>"
      ],
      "text/plain": [
       "   heart_rate\n",
       "0         1.0\n",
       "1         1.0\n",
       "2         1.0\n",
       "3         1.0\n",
       "4         1.0"
      ]
     },
     "execution_count": 4,
     "metadata": {},
     "output_type": "execute_result"
    }
   ],
   "source": [
    "\n",
    "# Compose and execute SQL queries to get all adult heart rates\n",
    "# First query: Join patients and admissions table to get the age which is admittime - dob, and filter all ages over 16 only, return table with just list of subject id's\n",
    "# Second query: Filter from chartevents table where subject id's match those we just returned, and with heart rate item ids 211 or 220045\n",
    "query = \"\"\"\n",
    "WITH subjects_above16 AS \n",
    "(\n",
    "  SELECT a.subject_id\n",
    "  FROM public.admissions a\n",
    "  INNER JOIN public.patients p\n",
    "  ON a.subject_id = p.subject_id\n",
    "  WHERE round((EXTRACT(EPOCH FROM (a.admittime-p.dob))/60/60/24/365.242) :: NUMERIC, 4) >= 16\n",
    "  group by a.subject_id\n",
    ")\n",
    ", heart_rate_table as\n",
    "(\n",
    "  SELECT width_bucket(ce.valuenum, 0, 300, 301) AS bucket\n",
    "  FROM public.chartevents ce\n",
    "  INNER JOIN subjects_above16\n",
    "  ON ce.subject_id = subjects_above16.subject_id\n",
    "  WHERE ce.itemid in (211, 220045)\n",
    ")\n",
    "SELECT bucket as heart_rate\n",
    "FROM heart_rate_table\n",
    "ORDER BY bucket;\n",
    "\"\"\"\n",
    "\n",
    "query_output = pd.read_sql_query(query,con)\n",
    "query_output.head()"
   ]
  },
  {
   "cell_type": "code",
   "execution_count": 5,
   "metadata": {},
   "outputs": [
    {
     "data": {
      "text/plain": [
       "<AxesSubplot:>"
      ]
     },
     "execution_count": 5,
     "metadata": {},
     "output_type": "execute_result"
    },
    {
     "data": {
      "image/png": "[encoded data removed]",
      "text/plain": [
       "<Figure size 432x288 with 1 Axes>"
      ]
     },
     "metadata": {
      "needs_background": "light"
     },
     "output_type": "display_data"
    }
   ],
   "source": [
    "\n",
    "# Visualize distribution of heart rate:\n",
    "query_output['heart_rate'].hist(bins=200)"
   ]
  },
  {
   "cell_type": "code",
   "execution_count": 6,
   "metadata": {},
   "outputs": [
    {
     "data": {
      "text/plain": [
       "count    15485.000000\n",
       "mean        88.766225\n",
       "std         19.175901\n",
       "min          1.000000\n",
       "25%         76.000000\n",
       "50%         88.000000\n",
       "75%        101.000000\n",
       "max        190.000000\n",
       "Name: heart_rate, dtype: float64"
      ]
     },
     "execution_count": 6,
     "metadata": {},
     "output_type": "execute_result"
    }
   ],
   "source": [
    "\n",
    "# Show 5-Number summary of heart rate:\n",
    "query_output['heart_rate'].describe()"
   ]
  },
  {
   "cell_type": "markdown",
   "metadata": {},
   "source": [
    "### Extract hospitalisation numbers\n",
    "\n",
    "We will now look at the basic operations required to extract descriptive statistics from the MIMIC-III database with relation to hospitalisations, age distribution of patients, gender distribution of patients, length of stay in ICUs and mortality. They use the basic tables of MIMIC-III: Patients, Icustays and Admissions. \n",
    "\n",
    "#### 1. Number of distinct patients across care units \n",
    "\n",
    "We would like to know the number of unique adult (age >= 16) patients admitted to an intensive care unit (ICU), as well as the distribution of those patients across the different ICUs.  \n",
    "\n",
    "The diagram below visualizes how to get the information that is needed to get those numbers. The Patients table is combined with the Icustays table to get each patient’s unique identifier and the ICU that they were admitted to. Moreover, we use each patient’s date of birth and the time of admission to compute each patient’s age, and select only adult patients (age >= 16).  \n",
    "\n",
    "![](https://github.com/pranath/blog/raw/master/images/mimic-sql1.png \"\")"
   ]
  },
  {
   "cell_type": "code",
   "execution_count": 7,
   "metadata": {},
   "outputs": [
    {
     "name": "stdout",
     "output_type": "stream",
     "text": [
      "Total Patients: 100\n"
     ]
    },
    {
     "data": {
      "text/html": [
       "<div>\n",
       "<style scoped>\n",
       "    .dataframe tbody tr th:only-of-type {\n",
       "        vertical-align: middle;\n",
       "    }\n",
       "\n",
       "    .dataframe tbody tr th {\n",
       "        vertical-align: top;\n",
       "    }\n",
       "\n",
       "    .dataframe thead th {\n",
       "        text-align: right;\n",
       "    }\n",
       "</style>\n",
       "<table border=\"1\" class=\"dataframe\">\n",
       "  <thead>\n",
       "    <tr style=\"text-align: right;\">\n",
       "      <th></th>\n",
       "      <th>ICU Unit</th>\n",
       "      <th>Total Admissions</th>\n",
       "      <th>Percentage Admissions</th>\n",
       "    </tr>\n",
       "  </thead>\n",
       "  <tbody>\n",
       "    <tr>\n",
       "      <th>0</th>\n",
       "      <td>CCU</td>\n",
       "      <td>12</td>\n",
       "      <td>12.0</td>\n",
       "    </tr>\n",
       "    <tr>\n",
       "      <th>1</th>\n",
       "      <td>CSRU</td>\n",
       "      <td>6</td>\n",
       "      <td>6.0</td>\n",
       "    </tr>\n",
       "    <tr>\n",
       "      <th>2</th>\n",
       "      <td>MICU</td>\n",
       "      <td>54</td>\n",
       "      <td>54.0</td>\n",
       "    </tr>\n",
       "    <tr>\n",
       "      <th>3</th>\n",
       "      <td>SICU</td>\n",
       "      <td>20</td>\n",
       "      <td>20.0</td>\n",
       "    </tr>\n",
       "    <tr>\n",
       "      <th>4</th>\n",
       "      <td>TSICU</td>\n",
       "      <td>8</td>\n",
       "      <td>8.0</td>\n",
       "    </tr>\n",
       "  </tbody>\n",
       "</table>\n",
       "</div>"
      ],
      "text/plain": [
       "  ICU Unit  Total Admissions  Percentage Admissions\n",
       "0      CCU                12                   12.0\n",
       "1     CSRU                 6                    6.0\n",
       "2     MICU                54                   54.0\n",
       "3     SICU                20                   20.0\n",
       "4    TSICU                 8                    8.0"
      ]
     },
     "execution_count": 7,
     "metadata": {},
     "output_type": "execute_result"
    }
   ],
   "source": [
    "\n",
    "# Compose SQL query\n",
    "query = \"\"\"\n",
    "SELECT i.subject_id, i.first_careunit\n",
    "  FROM public.patients p\n",
    "  INNER JOIN public.Icustays i ON i.subject_id = p.subject_id\n",
    "  WHERE round((EXTRACT(EPOCH FROM (i.intime-p.dob))/60/60/24/365.242) :: NUMERIC, 4) >= 16\n",
    "\"\"\"\n",
    "# Run query\n",
    "query_output = pd.read_sql_query(query,con)\n",
    "# Filter duplicate patients and group by ICU unit\n",
    "icu_units = query_output.drop_duplicates(['subject_id']).groupby(['first_careunit']).count()\n",
    "icu_units = icu_units.reset_index()\n",
    "# Calculate percentage\n",
    "icu_units.columns = ['ICU Unit', 'Total Admissions']\n",
    "sum_patients = icu_units['Total Admissions'].sum()\n",
    "icu_units['Percentage Admissions'] = (icu_units['Total Admissions'] / sum_patients) * 100\n",
    "print('Total Patients: ' + str(sum_patients))\n",
    "icu_units.head(10)"
   ]
  },
  {
   "cell_type": "markdown",
   "metadata": {},
   "source": [
    "#### 2. Number of distinct hospital admissions across care units \n",
    "\n",
    "Some patients might have been admitted to hospital more than once. Apart from the number of unique patients, we would also like to know the number of unique hospital admissions and the corresponding distribution across ICUs.  \n",
    "\n",
    "To get the numbers for hospital admissions, we combine the Patients table with the Icustays table based on each patient’s unique subject identifier. We collect each patient’s identifier and date of birth, and all the unique hospital stay identifiers, along with the corresponding ICU and time of admission. Again, we compute each patient’s age and select only adult patients (age >= 16). \n",
    "\n",
    "![](https://github.com/pranath/blog/raw/master/images/mimic-sql2.png \"\")"
   ]
  },
  {
   "cell_type": "code",
   "execution_count": 15,
   "metadata": {},
   "outputs": [
    {
     "name": "stdout",
     "output_type": "stream",
     "text": [
      "Total Patients: 129\n"
     ]
    },
    {
     "data": {
      "text/html": [
       "<div>\n",
       "<style scoped>\n",
       "    .dataframe tbody tr th:only-of-type {\n",
       "        vertical-align: middle;\n",
       "    }\n",
       "\n",
       "    .dataframe tbody tr th {\n",
       "        vertical-align: top;\n",
       "    }\n",
       "\n",
       "    .dataframe thead th {\n",
       "        text-align: right;\n",
       "    }\n",
       "</style>\n",
       "<table border=\"1\" class=\"dataframe\">\n",
       "  <thead>\n",
       "    <tr style=\"text-align: right;\">\n",
       "      <th></th>\n",
       "      <th>ICU Unit</th>\n",
       "      <th>Total Unique Admissions</th>\n",
       "      <th>Percentage Unique Admissions</th>\n",
       "    </tr>\n",
       "  </thead>\n",
       "  <tbody>\n",
       "    <tr>\n",
       "      <th>0</th>\n",
       "      <td>CCU</td>\n",
       "      <td>17</td>\n",
       "      <td>13.178295</td>\n",
       "    </tr>\n",
       "    <tr>\n",
       "      <th>1</th>\n",
       "      <td>CSRU</td>\n",
       "      <td>6</td>\n",
       "      <td>4.651163</td>\n",
       "    </tr>\n",
       "    <tr>\n",
       "      <th>2</th>\n",
       "      <td>MICU</td>\n",
       "      <td>73</td>\n",
       "      <td>56.589147</td>\n",
       "    </tr>\n",
       "    <tr>\n",
       "      <th>3</th>\n",
       "      <td>SICU</td>\n",
       "      <td>22</td>\n",
       "      <td>17.054264</td>\n",
       "    </tr>\n",
       "    <tr>\n",
       "      <th>4</th>\n",
       "      <td>TSICU</td>\n",
       "      <td>11</td>\n",
       "      <td>8.527132</td>\n",
       "    </tr>\n",
       "  </tbody>\n",
       "</table>\n",
       "</div>"
      ],
      "text/plain": [
       "  ICU Unit  Total Unique Admissions  Percentage Unique Admissions\n",
       "0      CCU                       17                     13.178295\n",
       "1     CSRU                        6                      4.651163\n",
       "2     MICU                       73                     56.589147\n",
       "3     SICU                       22                     17.054264\n",
       "4    TSICU                       11                      8.527132"
      ]
     },
     "execution_count": 15,
     "metadata": {},
     "output_type": "execute_result"
    }
   ],
   "source": [
    "\n",
    "# Compose SQL query\n",
    "query = \"\"\"\n",
    "SELECT i.first_careunit, i.hadm_id\n",
    "  FROM public.patients p\n",
    "  INNER JOIN public.Icustays i ON i.subject_id = p.subject_id\n",
    "  WHERE round((EXTRACT(EPOCH FROM (i.intime-p.dob))/60/60/24/365.242) :: NUMERIC, 4) >= 16\n",
    "\"\"\"\n",
    "# Run query\n",
    "query_output = pd.read_sql_query(query,con)\n",
    "# Filter duplicate patients and group by ICU unit\n",
    "icu_units = query_output.drop_duplicates(['hadm_id']).groupby(['first_careunit']).count()\n",
    "icu_units = icu_units.reset_index()\n",
    "# Calculate percentage\n",
    "icu_units.columns = ['ICU Unit', 'Total Unique Admissions']\n",
    "sum_patients = icu_units['Total Unique Admissions'].sum()\n",
    "icu_units['Percentage Unique Admissions'] = (icu_units['Total Unique Admissions'] / sum_patients) * 100\n",
    "print('Total Patients: ' + str(sum_patients))\n",
    "icu_units.head(10)"
   ]
  },
  {
   "cell_type": "markdown",
   "metadata": {},
   "source": [
    "#### 3. Number of distinct ICU stays across care units \n",
    "Each patient might also have been admitted to multiple ICUs, also within one hospital admission. We would like to know the number of unique admissions to the ICUs and the corresponding distribution of those numbers across the different ICUs.  \n",
    "\n",
    "Again, we combine the Patients and Icustays tables based on each subject’s unique identifier. We collect each patient’s identifier, date of birth, and hospital admission time. The latter two are used to compute age and filter on adult patients only (age >= 16). We also need the unique ICU stay identifier and the corresponding ICU.  \n",
    "\n",
    "![](https://github.com/pranath/blog/raw/master/images/mimic-sql3.png \"\")"
   ]
  },
  {
   "cell_type": "code",
   "execution_count": 17,
   "metadata": {},
   "outputs": [
    {
     "name": "stdout",
     "output_type": "stream",
     "text": [
      "Total Patients: 136\n"
     ]
    },
    {
     "data": {
      "text/html": [
       "<div>\n",
       "<style scoped>\n",
       "    .dataframe tbody tr th:only-of-type {\n",
       "        vertical-align: middle;\n",
       "    }\n",
       "\n",
       "    .dataframe tbody tr th {\n",
       "        vertical-align: top;\n",
       "    }\n",
       "\n",
       "    .dataframe thead th {\n",
       "        text-align: right;\n",
       "    }\n",
       "</style>\n",
       "<table border=\"1\" class=\"dataframe\">\n",
       "  <thead>\n",
       "    <tr style=\"text-align: right;\">\n",
       "      <th></th>\n",
       "      <th>ICU Unit</th>\n",
       "      <th>Total Unique ICU Stays</th>\n",
       "      <th>Percentage ICU Stays</th>\n",
       "    </tr>\n",
       "  </thead>\n",
       "  <tbody>\n",
       "    <tr>\n",
       "      <th>0</th>\n",
       "      <td>CCU</td>\n",
       "      <td>19</td>\n",
       "      <td>13.970588</td>\n",
       "    </tr>\n",
       "    <tr>\n",
       "      <th>1</th>\n",
       "      <td>CSRU</td>\n",
       "      <td>6</td>\n",
       "      <td>4.411765</td>\n",
       "    </tr>\n",
       "    <tr>\n",
       "      <th>2</th>\n",
       "      <td>MICU</td>\n",
       "      <td>77</td>\n",
       "      <td>56.617647</td>\n",
       "    </tr>\n",
       "    <tr>\n",
       "      <th>3</th>\n",
       "      <td>SICU</td>\n",
       "      <td>23</td>\n",
       "      <td>16.911765</td>\n",
       "    </tr>\n",
       "    <tr>\n",
       "      <th>4</th>\n",
       "      <td>TSICU</td>\n",
       "      <td>11</td>\n",
       "      <td>8.088235</td>\n",
       "    </tr>\n",
       "  </tbody>\n",
       "</table>\n",
       "</div>"
      ],
      "text/plain": [
       "  ICU Unit  Total Unique ICU Stays  Percentage ICU Stays\n",
       "0      CCU                      19             13.970588\n",
       "1     CSRU                       6              4.411765\n",
       "2     MICU                      77             56.617647\n",
       "3     SICU                      23             16.911765\n",
       "4    TSICU                      11              8.088235"
      ]
     },
     "execution_count": 17,
     "metadata": {},
     "output_type": "execute_result"
    }
   ],
   "source": [
    "\n",
    "# Compose SQL query\n",
    "query = \"\"\"\n",
    "SELECT i.first_careunit, i.icustay_id\n",
    "  FROM public.patients p\n",
    "  INNER JOIN public.Icustays i ON i.subject_id = p.subject_id\n",
    "  WHERE round((EXTRACT(EPOCH FROM (i.intime-p.dob))/60/60/24/365.242) :: NUMERIC, 4) >= 16\n",
    "\"\"\"\n",
    "# Run query\n",
    "query_output = pd.read_sql_query(query,con)\n",
    "# Filter duplicate patients and group by ICU unit\n",
    "icu_units = query_output.drop_duplicates(['icustay_id']).groupby(['first_careunit']).count()\n",
    "icu_units = icu_units.reset_index()\n",
    "# Calculate percentage\n",
    "icu_units.columns = ['ICU Unit', 'Total Unique ICU Stays']\n",
    "sum_patients = icu_units['Total Unique ICU Stays'].sum()\n",
    "icu_units['Percentage ICU Stays'] = (icu_units['Total Unique ICU Stays'] / sum_patients) * 100\n",
    "print('Total Patients: ' + str(sum_patients))\n",
    "icu_units.head(10)"
   ]
  },
  {
   "cell_type": "markdown",
   "metadata": {},
   "source": [
    "### Extract age across care units \n",
    "\n",
    "We would like to know the age (in years, with age >= 16) distribution over all care units combined, as well as across the different care units. More specifically, we are interested in the median, lower quartile and upper quartile. It is better not to use the mean here, because, for privacy reasons, age > 89 is set to 300 in the database. \n",
    "\n",
    "To obtain age, we need to combine the Patients and the Icustays tables. Age can be computed by subtracting the time of admission to the ICU from a patient’s date of birth. Moreover, to get the age distribution across ICUs, we can use the different care units obtained from the Icustays table. \n",
    "\n",
    "![](https://github.com/pranath/blog/raw/master/images/mimic-sql4.png \"\")"
   ]
  },
  {
   "cell_type": "code",
   "execution_count": 19,
   "metadata": {},
   "outputs": [
    {
     "data": {
      "text/html": [
       "<div>\n",
       "<style scoped>\n",
       "    .dataframe tbody tr th:only-of-type {\n",
       "        vertical-align: middle;\n",
       "    }\n",
       "\n",
       "    .dataframe tbody tr th {\n",
       "        vertical-align: top;\n",
       "    }\n",
       "\n",
       "    .dataframe thead th {\n",
       "        text-align: right;\n",
       "    }\n",
       "</style>\n",
       "<table border=\"1\" class=\"dataframe\">\n",
       "  <thead>\n",
       "    <tr style=\"text-align: right;\">\n",
       "      <th></th>\n",
       "      <th>first_careunit</th>\n",
       "      <th>age</th>\n",
       "    </tr>\n",
       "  </thead>\n",
       "  <tbody>\n",
       "    <tr>\n",
       "      <th>0</th>\n",
       "      <td>MICU</td>\n",
       "      <td>70.6378</td>\n",
       "    </tr>\n",
       "    <tr>\n",
       "      <th>1</th>\n",
       "      <td>MICU</td>\n",
       "      <td>36.1923</td>\n",
       "    </tr>\n",
       "    <tr>\n",
       "      <th>2</th>\n",
       "      <td>MICU</td>\n",
       "      <td>87.0874</td>\n",
       "    </tr>\n",
       "    <tr>\n",
       "      <th>3</th>\n",
       "      <td>CCU</td>\n",
       "      <td>73.6875</td>\n",
       "    </tr>\n",
       "    <tr>\n",
       "      <th>4</th>\n",
       "      <td>MICU</td>\n",
       "      <td>48.9015</td>\n",
       "    </tr>\n",
       "  </tbody>\n",
       "</table>\n",
       "</div>"
      ],
      "text/plain": [
       "  first_careunit      age\n",
       "0           MICU  70.6378\n",
       "1           MICU  36.1923\n",
       "2           MICU  87.0874\n",
       "3            CCU  73.6875\n",
       "4           MICU  48.9015"
      ]
     },
     "execution_count": 19,
     "metadata": {},
     "output_type": "execute_result"
    }
   ],
   "source": [
    "\n",
    "# Compose SQL query\n",
    "query = \"\"\"\n",
    "SELECT i.first_careunit, round((EXTRACT(EPOCH FROM (i.intime-p.dob))/60/60/24/365.242) :: NUMERIC, 4) as age\n",
    "  FROM public.patients p\n",
    "  INNER JOIN public.Icustays i ON i.subject_id = p.subject_id\n",
    "  WHERE round((EXTRACT(EPOCH FROM (i.intime-p.dob))/60/60/24/365.242) :: NUMERIC, 4) >= 16\n",
    "\"\"\"\n",
    "# Run query\n",
    "query_output = pd.read_sql_query(query,con)\n",
    "query_output.head()"
   ]
  },
  {
   "cell_type": "code",
   "execution_count": 20,
   "metadata": {},
   "outputs": [
    {
     "data": {
      "text/plain": [
       "<AxesSubplot:>"
      ]
     },
     "execution_count": 20,
     "metadata": {},
     "output_type": "execute_result"
    },
    {
     "data": {
      "image/png": "[encoded data removed]",
      "text/plain": [
       "<Figure size 432x288 with 1 Axes>"
      ]
     },
     "metadata": {
      "needs_background": "light"
     },
     "output_type": "display_data"
    }
   ],
   "source": [
    "\n",
    "# Visualize distribution of age:\n",
    "query_output['age'].hist(bins=200)"
   ]
  },
  {
   "cell_type": "markdown",
   "metadata": {},
   "source": [
    "We know that ages bigger than 89 have been set to 300 for privacy protection."
   ]
  },
  {
   "cell_type": "code",
   "execution_count": 21,
   "metadata": {},
   "outputs": [
    {
     "data": {
      "text/plain": [
       "count    136.000000\n",
       "mean      84.727227\n",
       "std       59.526746\n",
       "min       17.192000\n",
       "25%       63.836575\n",
       "50%       74.675500\n",
       "75%       83.199950\n",
       "max      300.044700\n",
       "Name: age, dtype: float64"
      ]
     },
     "execution_count": 21,
     "metadata": {},
     "output_type": "execute_result"
    }
   ],
   "source": [
    "\n",
    "# 5 number summary all ICU\n",
    "query_output['age'].describe()"
   ]
  },
  {
   "cell_type": "code",
   "execution_count": 22,
   "metadata": {},
   "outputs": [
    {
     "data": {
      "text/plain": [
       "count     19.000000\n",
       "mean      81.153068\n",
       "std       54.856342\n",
       "min       40.606400\n",
       "25%       59.851800\n",
       "50%       73.064700\n",
       "75%       81.184950\n",
       "max      300.002600\n",
       "Name: age, dtype: float64"
      ]
     },
     "execution_count": 22,
     "metadata": {},
     "output_type": "execute_result"
    }
   ],
   "source": [
    "\n",
    "# 5 number summary - CCU\n",
    "icu_df = query_output[query_output['first_careunit'] == 'CCU']\n",
    "icu_df['age'].describe()"
   ]
  },
  {
   "cell_type": "code",
   "execution_count": 23,
   "metadata": {},
   "outputs": [
    {
     "data": {
      "text/plain": [
       "count     6.000000\n",
       "mean     78.496400\n",
       "std       6.423162\n",
       "min      70.754500\n",
       "25%      73.265675\n",
       "50%      79.354650\n",
       "75%      82.011550\n",
       "max      87.381400\n",
       "Name: age, dtype: float64"
      ]
     },
     "execution_count": 23,
     "metadata": {},
     "output_type": "execute_result"
    }
   ],
   "source": [
    "\n",
    "# 5 number summary - CSRU\n",
    "icu_df = query_output[query_output['first_careunit'] == 'CSRU']\n",
    "icu_df['age'].describe()"
   ]
  },
  {
   "cell_type": "code",
   "execution_count": 24,
   "metadata": {},
   "outputs": [
    {
     "data": {
      "text/plain": [
       "count     77.000000\n",
       "mean      87.760839\n",
       "std       63.704415\n",
       "min       27.016700\n",
       "25%       64.788400\n",
       "50%       72.679900\n",
       "75%       83.325200\n",
       "max      300.044700\n",
       "Name: age, dtype: float64"
      ]
     },
     "execution_count": 24,
     "metadata": {},
     "output_type": "execute_result"
    }
   ],
   "source": [
    "\n",
    "# 5 number summary - MICU\n",
    "icu_df = query_output[query_output['first_careunit'] == 'MICU']\n",
    "icu_df['age'].describe()"
   ]
  },
  {
   "cell_type": "code",
   "execution_count": 25,
   "metadata": {},
   "outputs": [
    {
     "data": {
      "text/plain": [
       "count     23.000000\n",
       "mean      83.340996\n",
       "std       48.881057\n",
       "min       44.106900\n",
       "25%       63.841500\n",
       "50%       78.453500\n",
       "75%       81.537550\n",
       "max      300.002000\n",
       "Name: age, dtype: float64"
      ]
     },
     "execution_count": 25,
     "metadata": {},
     "output_type": "execute_result"
    }
   ],
   "source": [
    "\n",
    "# 5 number summary - SICU\n",
    "icu_df = query_output[query_output['first_careunit'] == 'SICU']\n",
    "icu_df['age'].describe()"
   ]
  },
  {
   "cell_type": "code",
   "execution_count": 26,
   "metadata": {},
   "outputs": [
    {
     "data": {
      "text/plain": [
       "count     11.000000\n",
       "mean      75.962609\n",
       "std       78.054324\n",
       "min       17.192000\n",
       "25%       39.984000\n",
       "50%       55.099500\n",
       "75%       77.582450\n",
       "max      300.003200\n",
       "Name: age, dtype: float64"
      ]
     },
     "execution_count": 26,
     "metadata": {},
     "output_type": "execute_result"
    }
   ],
   "source": [
    "\n",
    "# 5 number summary - TSICU\n",
    "icu_df = query_output[query_output['first_careunit'] == 'TSICU']\n",
    "icu_df['age'].describe()"
   ]
  }
 ],
 "metadata": {
  "kernelspec": {
   "display_name": "Python 3",
   "language": "python",
   "name": "python3"
  },
  "language_info": {
   "codemirror_mode": {
    "name": "ipython",
    "version": 3
   },
   "file_extension": ".py",
   "mimetype": "text/x-python",
   "name": "python",
   "nbconvert_exporter": "python",
   "pygments_lexer": "ipython3",
   "version": "3.8.5"
  }
 },
 "nbformat": 4,
 "nbformat_minor": 5
}
