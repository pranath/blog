{
  "nbformat": 4,
  "nbformat_minor": 0,
  "metadata": {
    "jupytext": {
      "split_at_heading": true
    },
    "kernelspec": {
      "display_name": "Python 3",
      "language": "python",
      "name": "python3"
    },
    "language_info": {
      "codemirror_mode": {
        "name": "ipython",
        "version": 3
      },
      "file_extension": ".py",
      "mimetype": "text/x-python",
      "name": "python",
      "nbconvert_exporter": "python",
      "pygments_lexer": "ipython3",
      "version": "3.7.6"
    },
  },
  "cells": [
      {
       "cell_type": "markdown",
       "metadata": {},
       "source": [
        "# State-of-the-art deep learning image model techniques in 2021\n",
        "> In this article I look at\n",
        "\n",
        "- toc: true \n",
        "- comments: true\n",
        "- image: images/sat9.jpeg\n",
        "- categories: [deep]"
       ]
      },
  ]
}
